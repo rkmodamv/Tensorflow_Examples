{
 "cells": [
  {
   "cell_type": "code",
   "execution_count": 57,
   "metadata": {},
   "outputs": [],
   "source": [
    "import tensorflow as tf\n",
    "import numpy\n",
    "import matplotlib.pyplot as plt\n",
    "random_range = numpy.random\n",
    "\n",
    "#Assigning values to some parameters\n",
    "learning_rate = 0.01\n",
    "step_size = 50\n",
    "epochs = 1000\n",
    "\n",
    "#Training Data\n",
    "#train_X = numpy.asarray([1.2,7.2,1.3,7.9,10.657,12.458,2.365,8.54,9.145,10.187,7.1])\n",
    "#train_Y = numpy.asarray([2.5,4.7,3.1,4.2,5.10,4.1,7.12,9.14,9.52,10.45,7.65])\n",
    "train_X = numpy.asarray(random_range.randn(150))\n",
    "train_Y = numpy.asarray(random_range.randn(150))\n",
    "\n",
    "samples = train_X.shape[0]"
   ]
  },
  {
   "cell_type": "code",
   "execution_count": 58,
   "metadata": {},
   "outputs": [],
   "source": [
    "# Input to the Graph\n",
    "X = tf.placeholder(\"float\")\n",
    "Y = tf.placeholder(\"float\")\n",
    "\n",
    "# Setting the weights for the model\n",
    "W = tf.Variable(random_range.randn(), name=\"weight\")\n",
    "b = tf.Variable(random_range.randn(), name=\"bias\")\n",
    "\n",
    "# Construct a linear model\n",
    "pred = tf.add(tf.multiply(X, W), b)\n",
    "\n",
    "# Mean squared error\n",
    "cost = tf.reduce_sum(tf.pow(pred-Y, 2))/(2*samples)\n",
    "# Gradient descent\n",
    "optimizer = tf.train.GradientDescentOptimizer(learning_rate).minimize(cost)"
   ]
  },
  {
   "cell_type": "code",
   "execution_count": 59,
   "metadata": {},
   "outputs": [
    {
     "name": "stdout",
     "output_type": "stream",
     "text": [
      "Epoch: 0050 cost= 0.747359931 W= 0.586152 b= -0.0265018\n",
      "Epoch: 0100 cost= 0.616849184 W= 0.357842 b= 0.081333\n",
      "Epoch: 0150 cost= 0.571138203 W= 0.221899 b= 0.143276\n",
      "Epoch: 0200 cost= 0.555109203 W= 0.140919 b= 0.178783\n",
      "Epoch: 0250 cost= 0.549479783 W= 0.09266 b= 0.199091\n",
      "Epoch: 0300 cost= 0.547498465 W= 0.063887 b= 0.210676\n",
      "Epoch: 0350 cost= 0.546799183 W= 0.0467239 b= 0.217266\n",
      "Epoch: 0400 cost= 0.546551168 W= 0.0364813 b= 0.221003\n",
      "Epoch: 0450 cost= 0.546462655 W= 0.0303658 b= 0.223113\n",
      "Epoch: 0500 cost= 0.546430707 W= 0.0267126 b= 0.2243\n",
      "Epoch: 0550 cost= 0.546418905 W= 0.0245293 b= 0.224965\n",
      "Epoch: 0600 cost= 0.546414614 W= 0.0232235 b= 0.225335\n",
      "Epoch: 0650 cost= 0.546412766 W= 0.0224424 b= 0.225538\n",
      "Epoch: 0700 cost= 0.546412110 W= 0.0219748 b= 0.225649\n",
      "Epoch: 0750 cost= 0.546411812 W= 0.0216947 b= 0.225713\n",
      "Epoch: 0800 cost= 0.546411753 W= 0.0215268 b= 0.225746\n",
      "Epoch: 0850 cost= 0.546411693 W= 0.0214258 b= 0.22576\n",
      "Epoch: 0900 cost= 0.546411574 W= 0.0213656 b= 0.225772\n",
      "Epoch: 0950 cost= 0.546411574 W= 0.0213293 b= 0.225778\n",
      "Epoch: 1000 cost= 0.546411514 W= 0.0213075 b= 0.225782\n",
      "Optimization Finished!\n",
      "Training cost= 0.546412 W= 0.0213075 b= 0.225782 \n",
      "\n"
     ]
    },
    {
     "data": {
      "image/png": "[encoded data removed]",
      "text/plain": [
       "<matplotlib.figure.Figure at 0x7fce91bdecc0>"
      ]
     },
     "metadata": {},
     "output_type": "display_data"
    }
   ],
   "source": [
    "# Initialize the variables (i.e. assign their default value)\n",
    "init = tf.global_variables_initializer()\n",
    "\n",
    "# Start training\n",
    "with tf.Session() as sess:\n",
    "    sess.run(init)\n",
    "\n",
    "    # Fit all training data\n",
    "    for epoch in range(epochs):\n",
    "        for (x, y) in zip(train_X, train_Y):\n",
    "            sess.run(optimizer, feed_dict={X: x, Y: y})\n",
    "\n",
    "        #Display logs per epoch step\n",
    "        if (epoch+1) % step_size == 0:\n",
    "            c = sess.run(cost, feed_dict={X: train_X, Y:train_Y})\n",
    "            print(\"Epoch:\",'%04d' % (epoch+1), \"cost=\", \"{:.9f}\".format(c), \\\n",
    "        \"W=\", sess.run(W), \"b=\", sess.run(b))\n",
    "\n",
    "    print(\"Optimization Finished!\")\n",
    "    training_cost = sess.run(cost, feed_dict={X: train_X, Y: train_Y})\n",
    "    print(\"Training cost=\", training_cost, \"W=\", sess.run(W), \"b=\", sess.run(b), '\\n')\n",
    "\n",
    "    #Graphic display\n",
    "    plt.plot(train_X, train_Y, 'ro', label='Data')\n",
    "    plt.plot(train_X, sess.run(W) * train_X + sess.run(b), label='Fitted line')\n",
    "    plt.legend()\n",
    "    plt.show()"
   ]
  },
  {
   "cell_type": "code",
   "execution_count": null,
   "metadata": {},
   "outputs": [],
   "source": []
  }
 ],
 "metadata": {
  "kernelspec": {
   "display_name": "Python 3",
   "language": "python",
   "name": "python3"
  },
  "language_info": {
   "codemirror_mode": {
    "name": "ipython",
    "version": 3
   },
   "file_extension": ".py",
   "mimetype": "text/x-python",
   "name": "python",
   "nbconvert_exporter": "python",
   "pygments_lexer": "ipython3",
   "version": "3.6.3"
  }
 },
 "nbformat": 4,
 "nbformat_minor": 2
}
