{
 "cells": [
  {
   "cell_type": "code",
   "execution_count": 24,
   "metadata": {},
   "outputs": [
    {
     "name": "stdout",
     "output_type": "stream",
     "text": [
      "[ 0.37673795  0.79399673  0.5281975   0.75099949  0.10661793  0.21138079\n",
      "  0.362564    0.2071481   0.08682756  0.56475876  0.554763    0.31073532\n",
      "  0.78073677  0.71706197  0.21578762  0.92920922  0.30023493  0.23331274\n",
      "  0.96978299  0.63431616  0.33840504  0.64634437  0.37624265  0.4659918\n",
      "  0.17051943  0.45926731  0.11181132  0.41635172  0.08483889  0.08595897\n",
      "  0.01890301  0.03542813  0.45374747  0.99900392  0.91283163  0.26216754\n",
      "  0.84132868  0.35193247  0.23776864  0.16644784  0.43258504  0.24054356\n",
      "  0.43954906  0.82971858  0.07594221  0.55748596  0.05748654  0.85623574\n",
      "  0.91561461  0.50899984  0.03749468  0.52737827  0.62196898  0.23631312\n",
      "  0.27159319  0.25386902  0.52698492  0.37314166  0.07313649  0.68918701\n",
      "  0.49357337  0.76246551  0.16799511  0.6795967   0.03426025  0.87754996\n",
      "  0.61756025  0.750202    0.78395547  0.07008696  0.13454892  0.03045845\n",
      "  0.88430143  0.9421805   0.09907879  0.37005169  0.10788606  0.05341047\n",
      "  0.65906485  0.65036748  0.89871461  0.25354165  0.66038358  0.63024419\n",
      "  0.0545831   0.26455114  0.83605257  0.62080241  0.07344223  0.22065117\n",
      "  0.27838436  0.84322415  0.18130258  0.69907509  0.54075132  0.32974184\n",
      "  0.53248679  0.17393406  0.89870492  0.56224029]\n",
      "[ 0.25305501  0.77419862  0.48199723  0.68756209  0.82150203  0.23353863\n",
      "  0.79374172  0.41947031  0.21183859  0.81661191  0.65451534  0.25779691\n",
      "  0.68800233  0.4540272   0.80445234  0.3009527   0.72347752  0.52924711\n",
      "  0.37753979  0.87575187  0.56656104  0.1186249   0.78313624  0.27533501\n",
      "  0.84383491  0.31620467  0.42495686  0.64076255  0.97239098  0.23504546\n",
      "  0.75515644  0.17923816  0.89819309  0.08920585  0.5244836   0.30158758\n",
      "  0.44441909  0.28482384  0.77075075  0.99820841  0.43486902  0.21027071\n",
      "  0.11343395  0.01357272  0.74362425  0.42153727  0.39001509  0.30999712\n",
      "  0.69585892  0.5527047   0.0595001   0.54397972  0.95982579  0.81363084\n",
      "  0.09843552  0.41416773  0.26946069  0.69287078  0.61628153  0.05826673\n",
      "  0.28706561  0.67873248  0.34453719  0.26646017  0.25751194  0.6346658\n",
      "  0.77530715  0.267734    0.0670462   0.24220687  0.64829773  0.02995108\n",
      "  0.39324731  0.99026962  0.61152866  0.35793161  0.6620038   0.95132381\n",
      "  0.32677446  0.30316331  0.03206618  0.52956455  0.20383857  0.32862346\n",
      "  0.03127824  0.26280395  0.68893843  0.92715281  0.12212782  0.09972996\n",
      "  0.33419442  0.82276981  0.9058001   0.9923598   0.50037591  0.61922601\n",
      "  0.25209223  0.17231191  0.11922189  0.10611374]\n",
      "100\n"
     ]
    }
   ],
   "source": [
    "import tensorflow as tf\n",
    "import numpy\n",
    "import matplotlib.pyplot as plt\n",
    "random_range = numpy.random\n",
    "\n",
    "#Assigning values to some parameters\n",
    "learning_rate = 0.01\n",
    "step_size = 50\n",
    "epochs = 1000\n",
    "\n",
    "#Training Data\n",
    "#train_X = numpy.asarray([1.2,7.2,1.3,7.9,10.657,12.458,2.365,8.54,9.145,10.187,7.1])\n",
    "#train_Y = numpy.asarray([2.5,4.7,3.1,4.2,5.10,4.1,7.12,9.14,9.52,10.45,7.65])\n",
    "\n",
    "#The data for train and test can be done using random function as well\n",
    "train_X = numpy.asarray(random_range.random(100))\n",
    "train_Y = numpy.asarray(random_range.random(100))\n",
    "\n",
    "print(train_X)\n",
    "print(train_Y)\n",
    "\n",
    "samples = train_X.shape[0]\n",
    "print(samples)"
   ]
  },
  {
   "cell_type": "code",
   "execution_count": 27,
   "metadata": {},
   "outputs": [],
   "source": [
    "# Input to the Graph\n",
    "X = tf.placeholder(\"float\")\n",
    "Y = tf.placeholder(\"float\")\n",
    "\n",
    "# Setting the weights for the model\n",
    "W = tf.Variable(random_range.random(), name=\"weight\")\n",
    "b = tf.Variable(random_range.random(), name=\"bias\")\n",
    "\n",
    "linear_model = tf.add(tf.multiply(X, W), b)\n",
    "\n",
    "# Mean squared error\n",
    "cost = tf.reduce_sum(tf.pow(linear_model-Y, 2))/(2*samples)\n",
    "\n",
    "# Gradient descent\n",
    "gradient_descent_optimizer = tf.train.GradientDescentOptimizer(learning_rate).minimize(cost)"
   ]
  },
  {
   "cell_type": "code",
   "execution_count": 28,
   "metadata": {},
   "outputs": [
    {
     "name": "stdout",
     "output_type": "stream",
     "text": [
      "Epoch: 0050 cost= 0.089683078 W= 0.584286 b= 0.479884\n",
      "Epoch: 0100 cost= 0.060524512 W= 0.5175 b= 0.381344\n",
      "Epoch: 0150 cost= 0.051430929 W= 0.474213 b= 0.330806\n",
      "Epoch: 0200 cost= 0.048340220 W= 0.443984 b= 0.306363\n",
      "Epoch: 0250 cost= 0.047061864 W= 0.421102 b= 0.296056\n",
      "Epoch: 0300 cost= 0.046346530 W= 0.402447 b= 0.293364\n",
      "Epoch: 0350 cost= 0.045820694 W= 0.386306 b= 0.294729\n",
      "Epoch: 0400 cost= 0.045371741 W= 0.371736 b= 0.298214\n",
      "Epoch: 0450 cost= 0.044964846 W= 0.358217 b= 0.302763\n",
      "Epoch: 0500 cost= 0.044588517 W= 0.345459 b= 0.307806\n",
      "Epoch: 0550 cost= 0.044238061 W= 0.333297 b= 0.313032\n",
      "Epoch: 0600 cost= 0.043911036 W= 0.321633 b= 0.318273\n",
      "Epoch: 0650 cost= 0.043605674 W= 0.310412 b= 0.323445\n",
      "Epoch: 0700 cost= 0.043320514 W= 0.299594 b= 0.3285\n",
      "Epoch: 0750 cost= 0.043054178 W= 0.289155 b= 0.333416\n",
      "Epoch: 0800 cost= 0.042805403 W= 0.279073 b= 0.338183\n",
      "Epoch: 0850 cost= 0.042573065 W= 0.269335 b= 0.342801\n",
      "Epoch: 0900 cost= 0.042356081 W= 0.259927 b= 0.347269\n",
      "Epoch: 0950 cost= 0.042153448 W= 0.250838 b= 0.351589\n",
      "Epoch: 1000 cost= 0.041964162 W= 0.242053 b= 0.355766\n",
      "-------------------------------------------------------\n",
      "Optimization Finished!\n",
      "-------------------------------------------------------\n",
      "Training cost= 0.0419642 W= 0.242053 b= 0.355766 \n",
      "\n"
     ]
    },
    {
     "data": {
      "image/png": "[encoded data removed]",
      "text/plain": [
       "<matplotlib.figure.Figure at 0x7ff1fb637d68>"
      ]
     },
     "metadata": {},
     "output_type": "display_data"
    }
   ],
   "source": [
    "# Initialize the variables to the default values\n",
    "initialization = tf.global_variables_initializer()\n",
    "\n",
    "# Start training\n",
    "with tf.Session() as session:\n",
    "    session.run(initialization)\n",
    "\n",
    "    # Fit all training data\n",
    "    for epoch in range(epochs):\n",
    "        for (x, y) in zip(train_X, train_Y):\n",
    "            session.run(gradient_descent_optimizer, feed_dict={X: x, Y: y})\n",
    "\n",
    "        #Display logs per epoch step\n",
    "        if (epoch+1) % step_size == 0:\n",
    "            c = session.run(cost, feed_dict={X: train_X, Y:train_Y})\n",
    "            print(\"Epoch:\",'%04d' % (epoch+1), \"cost=\", \"{:.9f}\".format(c), \"W=\", session.run(W), \"b=\", session.run(b))\n",
    "    print(\"-------------------------------------------------------\")\n",
    "    print(\"Optimization Finished!\")\n",
    "    print(\"-------------------------------------------------------\")\n",
    "    training_cost = session.run(cost, feed_dict={X: train_X, Y: train_Y})\n",
    "    print(\"Training cost=\", training_cost, \"W=\", session.run(W), \"b=\", session.run(b), '\\n')\n",
    "\n",
    "    #PLotting a graphs\n",
    "    plt.plot(train_X, train_Y, 'ro', label='Data')\n",
    "    plt.plot(train_X, session.run(W) * train_X + session.run(b), label='Fitted line')\n",
    "    plt.legend()\n",
    "    plt.show()"
   ]
  },
  {
   "cell_type": "code",
   "execution_count": null,
   "metadata": {},
   "outputs": [],
   "source": []
  }
 ],
 "metadata": {
  "kernelspec": {
   "display_name": "Python 3",
   "language": "python",
   "name": "python3"
  },
  "language_info": {
   "codemirror_mode": {
    "name": "ipython",
    "version": 3
   },
   "file_extension": ".py",
   "mimetype": "text/x-python",
   "name": "python",
   "nbconvert_exporter": "python",
   "pygments_lexer": "ipython3",
   "version": "3.6.3"
  }
 },
 "nbformat": 4,
 "nbformat_minor": 2
}
