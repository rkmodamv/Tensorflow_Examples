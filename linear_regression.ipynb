{
 "cells": [
  {
   "cell_type": "code",
   "execution_count": 3,
   "metadata": {},
   "outputs": [],
   "source": [
    "import tensorflow as tf\n",
    "import numpy\n",
    "import matplotlib.pyplot as plt\n",
    "random_range = numpy.random\n",
    "\n",
    "#Assigning values to some parameters\n",
    "learning_rate = 0.01\n",
    "step_size = 50\n",
    "epochs = 1000\n",
    "\n",
    "#Training Data\n",
    "#train_X = numpy.asarray([1.2,7.2,1.3,7.9,10.657,12.458,2.365,8.54,9.145,10.187,7.1])\n",
    "#train_Y = numpy.asarray([2.5,4.7,3.1,4.2,5.10,4.1,7.12,9.14,9.52,10.45,7.65])\n",
    "\n",
    "#The data for train and test can be done using random function as well\n",
    "train_X = numpy.asarray(random_range.randn(150))\n",
    "train_Y = numpy.asarray(random_range.randn(150))\n",
    "\n",
    "samples = train_X.shape[0]"
   ]
  },
  {
   "cell_type": "code",
   "execution_count": 4,
   "metadata": {},
   "outputs": [],
   "source": [
    "# Input to the Graph\n",
    "X = tf.placeholder(\"float\")\n",
    "Y = tf.placeholder(\"float\")\n",
    "\n",
    "# Setting the weights for the model\n",
    "W = tf.Variable(random_range.randn(), name=\"weight\")\n",
    "b = tf.Variable(random_range.randn(), name=\"bias\")\n",
    "\n",
    "linear_model = tf.add(tf.multiply(X, W), b)\n",
    "\n",
    "# Mean squared error\n",
    "cost = tf.reduce_sum(tf.pow(linear_model-Y, 2))/(2*samples)\n",
    "\n",
    "# Gradient descent\n",
    "gradient_descent_optimizer = tf.train.GradientDescentOptimizer(learning_rate).minimize(cost)"
   ]
  },
  {
   "cell_type": "code",
   "execution_count": 8,
   "metadata": {},
   "outputs": [
    {
     "name": "stdout",
     "output_type": "stream",
     "text": [
      "Epoch: 0050 cost= 0.985839963 W= 0.0190754 b= 1.02024\n",
      "Epoch: 0100 cost= 0.650034249 W= 0.00272757 b= 0.615076\n",
      "Epoch: 0150 cost= 0.526850104 W= 0.00933705 b= 0.369443\n",
      "Epoch: 0200 cost= 0.480904758 W= 0.0226149 b= 0.219885\n",
      "Epoch: 0250 cost= 0.463531762 W= 0.0358924 b= 0.128461\n",
      "Epoch: 0300 cost= 0.456890821 W= 0.0469049 b= 0.0723737\n",
      "Epoch: 0350 cost= 0.454331398 W= 0.0552697 b= 0.0378531\n",
      "Epoch: 0400 cost= 0.453339070 W= 0.0613088 b= 0.0165445\n",
      "Epoch: 0450 cost= 0.452952921 W= 0.065528 b= 0.00335717\n",
      "Epoch: 0500 cost= 0.452802420 W= 0.0684093 b= -0.00482291\n",
      "Epoch: 0550 cost= 0.452743828 W= 0.0703451 b= -0.00990734\n",
      "Epoch: 0600 cost= 0.452721089 W= 0.0716292 b= -0.0130732\n",
      "Epoch: 0650 cost= 0.452712297 W= 0.0724733 b= -0.0150475\n",
      "Epoch: 0700 cost= 0.452709049 W= 0.0730237 b= -0.0162805\n",
      "Epoch: 0750 cost= 0.452707767 W= 0.073381 b= -0.0170514\n",
      "Epoch: 0800 cost= 0.452707380 W= 0.0736114 b= -0.017534\n",
      "Epoch: 0850 cost= 0.452707171 W= 0.0737595 b= -0.0178363\n",
      "Epoch: 0900 cost= 0.452707201 W= 0.0738538 b= -0.0180257\n",
      "Epoch: 0950 cost= 0.452707201 W= 0.0739155 b= -0.0181446\n",
      "Epoch: 1000 cost= 0.452707201 W= 0.0739542 b= -0.0182192\n",
      "-------------------------------------------------------\n",
      "Optimization Finished!\n",
      "-------------------------------------------------------\n",
      "Training cost= 0.452707 W= 0.0739542 b= -0.0182192 \n",
      "\n"
     ]
    },
    {
     "data": {
      "image/png": "[encoded data removed]",
      "text/plain": [
       "<matplotlib.figure.Figure at 0x7f093de6b518>"
      ]
     },
     "metadata": {},
     "output_type": "display_data"
    }
   ],
   "source": [
    "# Initialize the variables to the default values\n",
    "initialization = tf.global_variables_initializer()\n",
    "\n",
    "# Start training\n",
    "with tf.Session() as session:\n",
    "    session.run(initialization)\n",
    "\n",
    "    # Fit all training data\n",
    "    for epoch in range(epochs):\n",
    "        for (x, y) in zip(train_X, train_Y):\n",
    "            session.run(gradient_descent_optimizer, feed_dict={X: x, Y: y})\n",
    "\n",
    "        #Display logs per epoch step\n",
    "        if (epoch+1) % step_size == 0:\n",
    "            c = session.run(cost, feed_dict={X: train_X, Y:train_Y})\n",
    "            print(\"Epoch:\",'%04d' % (epoch+1), \"cost=\", \"{:.9f}\".format(c), \"W=\", session.run(W), \"b=\", session.run(b))\n",
    "    print(\"-------------------------------------------------------\")\n",
    "    print(\"Optimization Finished!\")\n",
    "    print(\"-------------------------------------------------------\")\n",
    "    training_cost = session.run(cost, feed_dict={X: train_X, Y: train_Y})\n",
    "    print(\"Training cost=\", training_cost, \"W=\", session.run(W), \"b=\", session.run(b), '\\n')\n",
    "\n",
    "    #PLotting a graphs\n",
    "    plt.plot(train_X, train_Y, 'ro', label='Data')\n",
    "    plt.plot(train_X, session.run(W) * train_X + session.run(b), label='Fitted line')\n",
    "    plt.legend()\n",
    "    plt.show()"
   ]
  },
  {
   "cell_type": "code",
   "execution_count": null,
   "metadata": {},
   "outputs": [],
   "source": []
  }
 ],
 "metadata": {
  "kernelspec": {
   "display_name": "Python 3",
   "language": "python",
   "name": "python3"
  },
  "language_info": {
   "codemirror_mode": {
    "name": "ipython",
    "version": 3
   },
   "file_extension": ".py",
   "mimetype": "text/x-python",
   "name": "python",
   "nbconvert_exporter": "python",
   "pygments_lexer": "ipython3",
   "version": "3.6.3"
  }
 },
 "nbformat": 4,
 "nbformat_minor": 2
}
